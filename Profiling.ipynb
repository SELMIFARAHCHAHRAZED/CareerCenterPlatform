{
 "cells": [
  {
   "cell_type": "code",
   "execution_count": 2,
   "id": "47d317cb",
   "metadata": {},
   "outputs": [],
   "source": [
    "#####-------------------------------DBSCAN+SCORE##########################----------------------------"
   ]
  },
  {
   "cell_type": "code",
   "execution_count": 3,
   "id": "eb198a27",
   "metadata": {},
   "outputs": [
    {
     "name": "stdout",
     "output_type": "stream",
     "text": [
      "                                                 Title  \\\n",
      "0    DÉVELOPPEMENT D’UN SYSTÈME D'INFO DIVERTISSEME...   \n",
      "1    DÉVELOPPEMENT D’UN OUTIL DE DIAGNOSTIC AVEC IN...   \n",
      "2         DÉVELOPPEMENT D’UNE SOLUTION DE DÉBOGAGE OTA   \n",
      "3    GPS NMEA GENERATOR FOR TRACKING SYSTEM VIRTUAL...   \n",
      "4    CONCEPTION ET DÉVELOPPEMENT D'UN SYSTÈME D'ÉLE...   \n",
      "..                                                 ...   \n",
      "551      Rédaction web pour le site de Stark Solutions   \n",
      "552  Référencement naturel du site-web de Stark Sol...   \n",
      "553        Social media management de Stark Solutions    \n",
      "554  Proposition et conception d'une spécification ...   \n",
      "555  Proposition et conception d'une spécification ...   \n",
      "\n",
      "                                           Description  \\\n",
      "0    IMPLÉMENTATION DES FONCTIONNALITÉS ( BLUETOOTH...   \n",
      "1    INTERFACE GRAPHIQUE PERMETTANT DE COMMUNIQUER ...   \n",
      "2    APPLICATION WEB ET D’UN PROGRAMME C (QUI SERA ...   \n",
      "3    IL S'AGIT DE DEVELOPPER UN SIMULTAUER GPS L'AP...   \n",
      "4    L'ANALYSE ET CONCEPTION DE LA SOLUTION. - CONV...   \n",
      "..                                                 ...   \n",
      "551  Proposition des améliorations sur le site web ...   \n",
      "552  Elaboration des différentes étapes du référenc...   \n",
      "553  Développement de la notoriété et l'image de ma...   \n",
      "554  Etude des besoins fonctionnels d'un ERP pour l...   \n",
      "555  Etude des besoins fonctionnels d'un réaprovisi...   \n",
      "\n",
      "                                                Skills  Number of Interns  \\\n",
      "0                                       C, BASH, YOCTO                  1   \n",
      "1                               PYTHON, C, BASH, YOCTO                  1   \n",
      "2                               WEB (PHP, HTML,...), C                  1   \n",
      "3                                    LINUX, C, C++, QT                  1   \n",
      "4                   C EMBARQUÉ, CHORA, STRUCTURED TEXT                  1   \n",
      "..                                                 ...                ...   \n",
      "551                            Marketing digital , ERP                  1   \n",
      "552      Marketing digital ,Référencement naturel ,SEO                  1   \n",
      "553  Marketing digital , Social media management , ...                  1   \n",
      "554  Scrum , Analyse fonctionnelle , gestion de pro...                  1   \n",
      "555  CBN , Kanban , gestion des approvisionnements ...                  1   \n",
      "\n",
      "    Duration publication_date Location CompanyName  cluster  \n",
      "0      4 À 6       2023-01-05   ARIANA       ACTIA       -1  \n",
      "1      4 À 6       2023-01-22   ARIANA       ACTIA       -1  \n",
      "2      4 À 6       2022-12-21   ARIANA       ACTIA       -1  \n",
      "3      4 À 6       2022-12-02   ARIANA       ACTIA       -1  \n",
      "4      4 À 6       2023-01-14   ARIANA       ACTIA       -1  \n",
      "..       ...              ...      ...         ...      ...  \n",
      "551    4 à 6       2023-01-05     Sfax    Spark-it       -1  \n",
      "552    4 à 6       2023-01-06     Sfax    Spark-it       -1  \n",
      "553    4 à 6       2023-01-30     Sfax    Spark-it       -1  \n",
      "554    4 à 6       2022-12-19     Sfax    Spark-it       -1  \n",
      "555    4 à 6       2022-12-21     Sfax    Spark-it       -1  \n",
      "\n",
      "[545 rows x 9 columns]\n",
      "Silhouette score : 0.06757747466465387\n"
     ]
    }
   ],
   "source": [
    "from sklearn.feature_extraction.text import TfidfVectorizer\n",
    "from sklearn.cluster import DBSCAN\n",
    "from sklearn.metrics import silhouette_score\n",
    "import pandas as pd\n",
    "\n",
    "# Load skills data\n",
    "df = pd.read_excel('NewDataFinalOffre.xlsx')\n",
    "df = df.dropna(subset=['Skills'])\n",
    "\n",
    "# Extract skills column and convert to list\n",
    "skills = df['Skills'].tolist()\n",
    "\n",
    "# Convert skills to TF-IDF feature matrix\n",
    "vectorizer = TfidfVectorizer()\n",
    "X = vectorizer.fit_transform(skills)\n",
    "\n",
    "# DBSCAN clustering\n",
    "dbscan = DBSCAN(eps=0.5, min_samples=15)\n",
    "dbscan.fit(X)\n",
    "\n",
    "# Calculate silhouette score\n",
    "silhouette_avg = silhouette_score(X, dbscan.labels_)\n",
    "\n",
    "# Get cluster labels for each skill\n",
    "cluster_labels = dbscan.labels_\n",
    "\n",
    "# Add cluster labels to original data\n",
    "df['cluster'] = cluster_labels\n",
    "\n",
    "# Print data with cluster labels and silhouette score\n",
    "print(df)\n",
    "print(\"Silhouette score :\", silhouette_avg)\n",
    "df.to_excel('DBSCAN.xlsx', index=False)\n"
   ]
  },
  {
   "cell_type": "code",
   "execution_count": 4,
   "id": "d322f41d",
   "metadata": {},
   "outputs": [
    {
     "name": "stdout",
     "output_type": "stream",
     "text": [
      "Number of elelents   514\n"
     ]
    }
   ],
   "source": [
    "#5clusters\n",
    "num_noise_points = len(df[df['cluster'] == -1])\n",
    "print(\"Number of elelents  \", num_noise_points)"
   ]
  },
  {
   "cell_type": "code",
   "execution_count": 5,
   "id": "894d5109",
   "metadata": {},
   "outputs": [
    {
     "name": "stdout",
     "output_type": "stream",
     "text": [
      "Number of elelents:  16\n"
     ]
    }
   ],
   "source": [
    "num_noise_points = len(df[df['cluster'] == 0])\n",
    "print(\"Number of elelents: \", num_noise_points)"
   ]
  },
  {
   "cell_type": "code",
   "execution_count": 6,
   "id": "6267f4ae",
   "metadata": {},
   "outputs": [
    {
     "name": "stdout",
     "output_type": "stream",
     "text": [
      "Number of elelents  15\n"
     ]
    }
   ],
   "source": [
    "num_noise_points = len(df[df['cluster'] ==1])\n",
    "print(\"Number of elelents \", num_noise_points)"
   ]
  },
  {
   "cell_type": "code",
   "execution_count": 7,
   "id": "26b725d4",
   "metadata": {},
   "outputs": [
    {
     "name": "stdout",
     "output_type": "stream",
     "text": [
      "Number of elelents  0\n"
     ]
    }
   ],
   "source": [
    "num_noise_points = len(df[df['cluster'] ==2])\n",
    "print(\"Number of elelents \", num_noise_points)"
   ]
  },
  {
   "cell_type": "code",
   "execution_count": 8,
   "id": "a540f758",
   "metadata": {},
   "outputs": [
    {
     "name": "stdout",
     "output_type": "stream",
     "text": [
      "Number of noise points:  0\n"
     ]
    }
   ],
   "source": [
    "num_noise_points = len(df[df['cluster'] ==3])\n",
    "print(\"Number of noise points: \", num_noise_points)"
   ]
  },
  {
   "cell_type": "code",
   "execution_count": 9,
   "id": "80f58e2f",
   "metadata": {},
   "outputs": [
    {
     "name": "stdout",
     "output_type": "stream",
     "text": [
      "Number of noise points:  0\n"
     ]
    }
   ],
   "source": [
    "num_noise_points = len(df[df['cluster'] ==4])\n",
    "print(\"Number of noise points: \", num_noise_points)"
   ]
  },
  {
   "cell_type": "code",
   "execution_count": 10,
   "id": "60782af7",
   "metadata": {},
   "outputs": [],
   "source": [
    "##################################   GMM----------------------------------------"
   ]
  },
  {
   "cell_type": "code",
   "execution_count": 11,
   "id": "3f8ae006",
   "metadata": {},
   "outputs": [
    {
     "name": "stdout",
     "output_type": "stream",
     "text": [
      "                                                 Title  \\\n",
      "0    DÉVELOPPEMENT D’UN SYSTÈME D'INFO DIVERTISSEME...   \n",
      "1    DÉVELOPPEMENT D’UN OUTIL DE DIAGNOSTIC AVEC IN...   \n",
      "2         DÉVELOPPEMENT D’UNE SOLUTION DE DÉBOGAGE OTA   \n",
      "3    GPS NMEA GENERATOR FOR TRACKING SYSTEM VIRTUAL...   \n",
      "4    CONCEPTION ET DÉVELOPPEMENT D'UN SYSTÈME D'ÉLE...   \n",
      "..                                                 ...   \n",
      "551      Rédaction web pour le site de Stark Solutions   \n",
      "552  Référencement naturel du site-web de Stark Sol...   \n",
      "553        Social media management de Stark Solutions    \n",
      "554  Proposition et conception d'une spécification ...   \n",
      "555  Proposition et conception d'une spécification ...   \n",
      "\n",
      "                                           Description  \\\n",
      "0    IMPLÉMENTATION DES FONCTIONNALITÉS ( BLUETOOTH...   \n",
      "1    INTERFACE GRAPHIQUE PERMETTANT DE COMMUNIQUER ...   \n",
      "2    APPLICATION WEB ET D’UN PROGRAMME C (QUI SERA ...   \n",
      "3    IL S'AGIT DE DEVELOPPER UN SIMULTAUER GPS L'AP...   \n",
      "4    L'ANALYSE ET CONCEPTION DE LA SOLUTION. - CONV...   \n",
      "..                                                 ...   \n",
      "551  Proposition des améliorations sur le site web ...   \n",
      "552  Elaboration des différentes étapes du référenc...   \n",
      "553  Développement de la notoriété et l'image de ma...   \n",
      "554  Etude des besoins fonctionnels d'un ERP pour l...   \n",
      "555  Etude des besoins fonctionnels d'un réaprovisi...   \n",
      "\n",
      "                                                Skills  Number of Interns  \\\n",
      "0                                       C, BASH, YOCTO                  1   \n",
      "1                               PYTHON, C, BASH, YOCTO                  1   \n",
      "2                               WEB (PHP, HTML,...), C                  1   \n",
      "3                                    LINUX, C, C++, QT                  1   \n",
      "4                   C EMBARQUÉ, CHORA, STRUCTURED TEXT                  1   \n",
      "..                                                 ...                ...   \n",
      "551                            Marketing digital , ERP                  1   \n",
      "552      Marketing digital ,Référencement naturel ,SEO                  1   \n",
      "553  Marketing digital , Social media management , ...                  1   \n",
      "554  Scrum , Analyse fonctionnelle , gestion de pro...                  1   \n",
      "555  CBN , Kanban , gestion des approvisionnements ...                  1   \n",
      "\n",
      "    Duration publication_date Location CompanyName  cluster  \n",
      "0      4 À 6       2023-01-05   ARIANA       ACTIA        7  \n",
      "1      4 À 6       2023-01-22   ARIANA       ACTIA        7  \n",
      "2      4 À 6       2022-12-21   ARIANA       ACTIA        7  \n",
      "3      4 À 6       2022-12-02   ARIANA       ACTIA        7  \n",
      "4      4 À 6       2023-01-14   ARIANA       ACTIA        7  \n",
      "..       ...              ...      ...         ...      ...  \n",
      "551    4 à 6       2023-01-05     Sfax    Spark-it        2  \n",
      "552    4 à 6       2023-01-06     Sfax    Spark-it        2  \n",
      "553    4 à 6       2023-01-30     Sfax    Spark-it        2  \n",
      "554    4 à 6       2022-12-19     Sfax    Spark-it        7  \n",
      "555    4 à 6       2022-12-21     Sfax    Spark-it        7  \n",
      "\n",
      "[545 rows x 9 columns]\n",
      "Silhouette score : 0.14260210934280015\n"
     ]
    }
   ],
   "source": [
    "import pandas as pd\n",
    "from sklearn.feature_extraction.text import TfidfVectorizer\n",
    "from sklearn.mixture import GaussianMixture\n",
    "from sklearn.metrics import silhouette_score\n",
    "\n",
    "# Load data\n",
    "dfGMM = pd.read_excel('NewDataFinalOffre.xlsx')\n",
    "dfGMM = dfGMM.dropna(subset=['Skills'])\n",
    "\n",
    "# Extract skills column and convert to list\n",
    "skills = dfGMM['Skills'].tolist()\n",
    "\n",
    "# Convert skills to TF-IDF feature matrix\n",
    "vectorizer = TfidfVectorizer()\n",
    "X = vectorizer.fit_transform(skills)\n",
    "\n",
    "# GMM clustering\n",
    "gmm = GaussianMixture(n_components=30, random_state=42)\n",
    "gmm.fit(X.toarray())\n",
    "\n",
    "# Calculate silhouette score\n",
    "silhouette_avg = silhouette_score(X, gmm.predict(X.toarray()))\n",
    "\n",
    "# Get cluster labels for each skill\n",
    "cluster_labels = gmm.predict(X.toarray())\n",
    "\n",
    "# Add cluster labels to original data\n",
    "dfGMM['cluster'] = cluster_labels\n",
    "\n",
    "# Print data with cluster labels and silhouette score\n",
    "print(dfGMM)\n",
    "print(\"Silhouette score :\", silhouette_avg)\n",
    "dfGMM.to_excel('GMM.xlsx', index=False)\n"
   ]
  },
  {
   "cell_type": "code",
   "execution_count": 12,
   "id": "35eef57a",
   "metadata": {},
   "outputs": [
    {
     "name": "stdout",
     "output_type": "stream",
     "text": [
      "Number of elelents  1\n"
     ]
    }
   ],
   "source": [
    "num_noise_points = len(dfGMM[dfGMM['cluster'] ==4])\n",
    "print(\"Number of elelents \", num_noise_points)"
   ]
  },
  {
   "cell_type": "code",
   "execution_count": 13,
   "id": "ea9917db",
   "metadata": {},
   "outputs": [],
   "source": [
    "##################################   CAH----------------------------------------"
   ]
  },
  {
   "cell_type": "code",
   "execution_count": 14,
   "id": "c2f0b974",
   "metadata": {},
   "outputs": [
    {
     "name": "stdout",
     "output_type": "stream",
     "text": [
      "                                                 Title  \\\n",
      "0    DÉVELOPPEMENT D’UN SYSTÈME D'INFO DIVERTISSEME...   \n",
      "1    DÉVELOPPEMENT D’UN OUTIL DE DIAGNOSTIC AVEC IN...   \n",
      "2         DÉVELOPPEMENT D’UNE SOLUTION DE DÉBOGAGE OTA   \n",
      "3    GPS NMEA GENERATOR FOR TRACKING SYSTEM VIRTUAL...   \n",
      "4    CONCEPTION ET DÉVELOPPEMENT D'UN SYSTÈME D'ÉLE...   \n",
      "..                                                 ...   \n",
      "551      Rédaction web pour le site de Stark Solutions   \n",
      "552  Référencement naturel du site-web de Stark Sol...   \n",
      "553        Social media management de Stark Solutions    \n",
      "554  Proposition et conception d'une spécification ...   \n",
      "555  Proposition et conception d'une spécification ...   \n",
      "\n",
      "                                           Description  \\\n",
      "0    IMPLÉMENTATION DES FONCTIONNALITÉS ( BLUETOOTH...   \n",
      "1    INTERFACE GRAPHIQUE PERMETTANT DE COMMUNIQUER ...   \n",
      "2    APPLICATION WEB ET D’UN PROGRAMME C (QUI SERA ...   \n",
      "3    IL S'AGIT DE DEVELOPPER UN SIMULTAUER GPS L'AP...   \n",
      "4    L'ANALYSE ET CONCEPTION DE LA SOLUTION. - CONV...   \n",
      "..                                                 ...   \n",
      "551  Proposition des améliorations sur le site web ...   \n",
      "552  Elaboration des différentes étapes du référenc...   \n",
      "553  Développement de la notoriété et l'image de ma...   \n",
      "554  Etude des besoins fonctionnels d'un ERP pour l...   \n",
      "555  Etude des besoins fonctionnels d'un réaprovisi...   \n",
      "\n",
      "                                                Skills  Number of Interns  \\\n",
      "0                                       C, BASH, YOCTO                  1   \n",
      "1                               PYTHON, C, BASH, YOCTO                  1   \n",
      "2                               WEB (PHP, HTML,...), C                  1   \n",
      "3                                    LINUX, C, C++, QT                  1   \n",
      "4                   C EMBARQUÉ, CHORA, STRUCTURED TEXT                  1   \n",
      "..                                                 ...                ...   \n",
      "551                            Marketing digital , ERP                  1   \n",
      "552      Marketing digital ,Référencement naturel ,SEO                  1   \n",
      "553  Marketing digital , Social media management , ...                  1   \n",
      "554  Scrum , Analyse fonctionnelle , gestion de pro...                  1   \n",
      "555  CBN , Kanban , gestion des approvisionnements ...                  1   \n",
      "\n",
      "    Duration publication_date Location CompanyName  cluster  \n",
      "0      4 À 6       2023-01-05   ARIANA       ACTIA        1  \n",
      "1      4 À 6       2023-01-22   ARIANA       ACTIA        1  \n",
      "2      4 À 6       2022-12-21   ARIANA       ACTIA        6  \n",
      "3      4 À 6       2022-12-02   ARIANA       ACTIA       14  \n",
      "4      4 À 6       2023-01-14   ARIANA       ACTIA       13  \n",
      "..       ...              ...      ...         ...      ...  \n",
      "551    4 à 6       2023-01-05     Sfax    Spark-it        1  \n",
      "552    4 à 6       2023-01-06     Sfax    Spark-it        1  \n",
      "553    4 à 6       2023-01-30     Sfax    Spark-it        1  \n",
      "554    4 à 6       2022-12-19     Sfax    Spark-it        1  \n",
      "555    4 à 6       2022-12-21     Sfax    Spark-it        1  \n",
      "\n",
      "[545 rows x 9 columns]\n",
      "Silhouette score : 0.20314130943170525\n"
     ]
    }
   ],
   "source": [
    "import pandas as pd\n",
    "from sklearn.feature_extraction.text import TfidfVectorizer\n",
    "from sklearn.cluster import AgglomerativeClustering\n",
    "from sklearn.metrics import silhouette_score\n",
    "\n",
    "dfCAH = pd.read_excel('NewDataFinalOffre.xlsx')\n",
    "dfCAH = dfCAH.dropna(subset=['Skills'])\n",
    "\n",
    "# Extract skills column and convert to list\n",
    "skills = dfCAH['Skills'].tolist()\n",
    "\n",
    "# Convert skills to TF-IDF feature matrix\n",
    "vectorizer = TfidfVectorizer()\n",
    "X = vectorizer.fit_transform(skills)\n",
    "\n",
    "# CAH clustering\n",
    "cah = AgglomerativeClustering(n_clusters=36, linkage='ward')\n",
    "cah.fit(X.toarray())\n",
    "\n",
    "# Calculate silhouette score\n",
    "silhouette_avg = silhouette_score(X, cah.labels_)\n",
    "\n",
    "# Get cluster labels for each skill\n",
    "cluster_labels = cah.labels_\n",
    "\n",
    "# Add cluster labels to original data\n",
    "dfCAH['cluster'] = cluster_labels\n",
    "\n",
    "\n",
    "# Print data with cluster labels and silhouette score\n",
    "print(dfCAH)\n",
    "print(\"Silhouette score :\", silhouette_avg)\n",
    "dfCAH.to_excel('CAH.xlsx', index=False)\n"
   ]
  },
  {
   "cell_type": "code",
   "execution_count": null,
   "id": "d4977bc2",
   "metadata": {},
   "outputs": [],
   "source": [
    " \n"
   ]
  },
  {
   "cell_type": "code",
   "execution_count": 15,
   "id": "f9217041",
   "metadata": {},
   "outputs": [
    {
     "name": "stdout",
     "output_type": "stream",
     "text": [
      "Number of elelents  17\n"
     ]
    }
   ],
   "source": [
    "num_noise_points = len(dfCAH[dfCAH['cluster'] ==0])\n",
    "print(\"Number of elelents \", num_noise_points)"
   ]
  },
  {
   "cell_type": "code",
   "execution_count": null,
   "id": "e290e985",
   "metadata": {},
   "outputs": [],
   "source": [
    "num_noise_points = len(dfCAH[dfCAH['cluster'] ==8])\n",
    "print(\"Number of elelents \", num_noise_points)"
   ]
  },
  {
   "cell_type": "markdown",
   "id": "04452098",
   "metadata": {},
   "source": [
    "\n"
   ]
  }
 ],
 "metadata": {
  "kernelspec": {
   "display_name": "Python 3 (ipykernel)",
   "language": "python",
   "name": "python3"
  },
  "language_info": {
   "codemirror_mode": {
    "name": "ipython",
    "version": 3
   },
   "file_extension": ".py",
   "mimetype": "text/x-python",
   "name": "python",
   "nbconvert_exporter": "python",
   "pygments_lexer": "ipython3",
   "version": "3.9.13"
  }
 },
 "nbformat": 4,
 "nbformat_minor": 5
}
