{
  "nbformat": 4,
  "nbformat_minor": 0,
  "metadata": {
    "colab": {
      "provenance": []
    },
    "kernelspec": {
      "name": "python3",
      "display_name": "Python 3"
    },
    "language_info": {
      "name": "python"
    }
  },
  "cells": [
    {
      "cell_type": "markdown",
      "source": [
        "###Proxycurl API is a LinkedIn Profile Scraping API\n",
        "\n",
        "**Use Cases:**\n",
        "\n",
        "Building Data Driven Applications. (Lead Generation, Prospecting etc)\n",
        "\n",
        "Eg. Leveraging NLP like GPT-3 to Write Personalize Email , Message, LinkedIn Invitation based on their profile info like Occuption, Experince, Summary etc\n",
        "\n"
      ],
      "metadata": {
        "id": "1Y4A8_YBRPUT"
      }
    },
    {
      "cell_type": "markdown",
      "source": [
        "https://nubela.co/proxycurl/linkedin"
      ],
      "metadata": {
        "id": "yVE-f8jaMhM0"
      }
    },
    {
      "cell_type": "markdown",
      "source": [],
      "metadata": {
        "id": "6oB6xcAYRVnl"
      }
    },
    {
      "cell_type": "code",
      "execution_count": null,
      "metadata": {
        "id": "YDuNussNMRz4"
      },
      "outputs": [],
      "source": [
        "import requests\n",
        "api_endpoint = 'https://nubela.co/proxycurl/api/v2/linkedin'\n",
        "linkedin_profile_url = 'https://www.linkedin.com/in/sonia-mesbah-80134060/'\n",
        "api_key = 'nWJpR7sR1G141rv4Nstslg'\n",
        "headers = {'Authorization': 'Bearer ' + api_key}\n",
        "\n",
        "response = requests.get(api_endpoint,\n",
        "                        params={'url': linkedin_profile_url,'skills': 'include'},\n",
        "                        headers=headers)"
      ]
    },
    {
      "cell_type": "code",
      "source": [
        "profile_data = response.json()\n",
        "profile_data"
      ],
      "metadata": {
        "id": "uzC4ZKBTOINR",
        "colab": {
          "base_uri": "https://localhost:8080/"
        },
        "outputId": "56065439-5202-4054-b036-11e269683499"
      },
      "execution_count": null,
      "outputs": [
        {
          "output_type": "execute_result",
          "data": {
            "text/plain": [
              "{'public_identifier': 'sonia-mesbah-80134060',\n",
              " 'profile_pic_url': 'https://media.licdn.com/dms/image/C4D03AQEBS3Ib3ynMcQ/profile-displayphoto-shrink_400_400/0/1662402046723?e=1681948800&v=beta&t=jOZJbjNydeBKknTsiqV1fT2vpA7rKKUq6kM3BYosj2w',\n",
              " 'background_cover_image_url': None,\n",
              " 'first_name': 'Sonia',\n",
              " 'last_name': 'Mesbah',\n",
              " 'full_name': 'Sonia Mesbah',\n",
              " 'follower_count': None,\n",
              " 'occupation': \"Machine Learning module Coordinator at ESPRIT (Ecole Supérieure Privée d'Ingénierie et de Technologies)\",\n",
              " 'headline': 'Phd, AI specialist, University Teacher, computer science',\n",
              " 'summary': None,\n",
              " 'country': 'TN',\n",
              " 'country_full_name': 'Tunisia',\n",
              " 'city': None,\n",
              " 'state': None,\n",
              " 'experiences': [{'starts_at': {'day': 1, 'month': 9, 'year': 2020},\n",
              "   'ends_at': None,\n",
              "   'company': \"ESPRIT (Ecole Supérieure Privée d'Ingénierie et de Technologies)\",\n",
              "   'company_linkedin_profile_url': 'https://www.linkedin.com/school/esprit_2/',\n",
              "   'title': 'Machine Learning module Coordinator',\n",
              "   'description': None,\n",
              "   'location': None,\n",
              "   'logo_url': 'https://media.licdn.com/dms/image/C4D0BAQE5RXDgS-RpXA/company-logo_400_400/0/1621252767729?e=1684972800&v=beta&t=zSpQXRquSEa2ye51Z5BqiBINqJTLPPjzI8b0NHkFBo0'},\n",
              "  {'starts_at': {'day': 1, 'month': 2, 'year': 2018},\n",
              "   'ends_at': {'day': 1, 'month': 9, 'year': 2020},\n",
              "   'company': \"ESPRIT (Ecole Supérieure Privée d'Ingénierie et de Technologies)\",\n",
              "   'company_linkedin_profile_url': 'https://www.linkedin.com/school/esprit_2/',\n",
              "   'title': 'Software Engineering module coordinator',\n",
              "   'description': None,\n",
              "   'location': None,\n",
              "   'logo_url': 'https://media.licdn.com/dms/image/C4D0BAQE5RXDgS-RpXA/company-logo_400_400/0/1621252767729?e=1684972800&v=beta&t=zSpQXRquSEa2ye51Z5BqiBINqJTLPPjzI8b0NHkFBo0'},\n",
              "  {'starts_at': {'day': 1, 'month': 9, 'year': 2012},\n",
              "   'ends_at': None,\n",
              "   'company': \"ESPRIT (Ecole Supérieure Privée d'Ingénierie et de Technologies)\",\n",
              "   'company_linkedin_profile_url': 'https://www.linkedin.com/school/esprit_2/',\n",
              "   'title': 'Teacher-researcher',\n",
              "   'description': 'UML, software engineering, project C++, Agile Methodology,Java, Machine Learning, Data science project',\n",
              "   'location': None,\n",
              "   'logo_url': 'https://media.licdn.com/dms/image/C4D0BAQE5RXDgS-RpXA/company-logo_400_400/0/1621252767729?e=1684972800&v=beta&t=zSpQXRquSEa2ye51Z5BqiBINqJTLPPjzI8b0NHkFBo0'},\n",
              "  {'starts_at': {'day': 1, 'month': 9, 'year': 2011},\n",
              "   'ends_at': {'day': 1, 'month': 6, 'year': 2012},\n",
              "   'company': 'UPES',\n",
              "   'company_linkedin_profile_url': None,\n",
              "   'title': 'Teacher',\n",
              "   'description': 'Computer Vision, Matlab, Algorithmics,  Maple, POO',\n",
              "   'location': None,\n",
              "   'logo_url': None},\n",
              "  {'starts_at': {'day': 1, 'month': 9, 'year': 2010},\n",
              "   'ends_at': {'day': 1, 'month': 6, 'year': 2011},\n",
              "   'company': 'ISEAHT',\n",
              "   'company_linkedin_profile_url': None,\n",
              "   'title': 'Teacher',\n",
              "   'description': 'C2i, HTML, image processing',\n",
              "   'location': None,\n",
              "   'logo_url': None}],\n",
              " 'education': [{'starts_at': {'day': 1, 'month': 1, 'year': 2017},\n",
              "   'ends_at': {'day': 1, 'month': 1, 'year': 2021},\n",
              "   'field_of_study': '3D video coding, computer vision',\n",
              "   'degree_name': 'Diplôme de doctorat en informatique',\n",
              "   'school': \"ENSI - Ecole Nationale des Sciences de l'Informatique\",\n",
              "   'school_linkedin_profile_url': None,\n",
              "   'description': None,\n",
              "   'logo_url': 'https://media.licdn.com/dms/image/C4E0BAQFwXUUykEGA-w/company-logo_400_400/0/1529178073889?e=1684972800&v=beta&t=qianxNYA3j9JDdNuaEdmeai9IKMq2vMgHs4wiao0OEk',\n",
              "   'grade': None,\n",
              "   'activities_and_societies': None},\n",
              "  {'starts_at': None,\n",
              "   'ends_at': {'day': 1, 'month': 1, 'year': 2012},\n",
              "   'field_of_study': 'Systèmes intelligents communicants',\n",
              "   'degree_name': 'Mastère de recherche',\n",
              "   'school': \"École Nationale d'ingénieurs de Sousse\",\n",
              "   'school_linkedin_profile_url': None,\n",
              "   'description': None,\n",
              "   'logo_url': 'https://media.licdn.com/dms/image/C560BAQGUZYDY1dk91Q/company-logo_400_400/0/1519912264910?e=1684972800&v=beta&t=XvROQdhA_Jc3hyWLDOArgFW5gmsADHTozGHJZ613yFw',\n",
              "   'grade': None,\n",
              "   'activities_and_societies': None},\n",
              "  {'starts_at': None,\n",
              "   'ends_at': {'day': 1, 'month': 1, 'year': 2010},\n",
              "   'field_of_study': 'Informatique appliquée',\n",
              "   'degree_name': \"Diplôme d'ingénieur\",\n",
              "   'school': \"École Nationale d'ingénieurs de Sousse\",\n",
              "   'school_linkedin_profile_url': None,\n",
              "   'description': None,\n",
              "   'logo_url': 'https://media.licdn.com/dms/image/C560BAQGUZYDY1dk91Q/company-logo_400_400/0/1519912264910?e=1684972800&v=beta&t=XvROQdhA_Jc3hyWLDOArgFW5gmsADHTozGHJZ613yFw',\n",
              "   'grade': None,\n",
              "   'activities_and_societies': None},\n",
              "  {'starts_at': None,\n",
              "   'ends_at': {'day': 1, 'month': 6, 'year': 2007},\n",
              "   'field_of_study': 'Math-physique',\n",
              "   'degree_name': \"Concours d'accès aux écoles d'ingénieurs \",\n",
              "   'school': 'Cycle préparatoire ',\n",
              "   'school_linkedin_profile_url': None,\n",
              "   'description': None,\n",
              "   'logo_url': None,\n",
              "   'grade': None,\n",
              "   'activities_and_societies': None}],\n",
              " 'languages': ['Arabe', 'Français', 'Italien', 'anglais'],\n",
              " 'accomplishment_organisations': [{'starts_at': None,\n",
              "   'ends_at': None,\n",
              "   'org_name': 'Centre Canadien de développement humain',\n",
              "   'title': None,\n",
              "   'description': None}],\n",
              " 'accomplishment_publications': [],\n",
              " 'accomplishment_honors_awards': [],\n",
              " 'accomplishment_patents': [],\n",
              " 'accomplishment_courses': [],\n",
              " 'accomplishment_projects': [],\n",
              " 'accomplishment_test_scores': [],\n",
              " 'volunteer_work': [],\n",
              " 'certifications': [{'starts_at': {'day': 1, 'month': 7, 'year': 2021},\n",
              "   'ends_at': None,\n",
              "   'name': 'Professional qualification certificate Big Data Analytics',\n",
              "   'license_number': None,\n",
              "   'display_source': None,\n",
              "   'authority': None,\n",
              "   'url': None},\n",
              "  {'starts_at': {'day': 1, 'month': 11, 'year': 2019},\n",
              "   'ends_at': None,\n",
              "   'name': 'Professional qualification certificate Python',\n",
              "   'license_number': None,\n",
              "   'display_source': None,\n",
              "   'authority': None,\n",
              "   'url': None},\n",
              "  {'starts_at': {'day': 1, 'month': 3, 'year': 2019},\n",
              "   'ends_at': None,\n",
              "   'name': 'Fundamentals of deep learning',\n",
              "   'license_number': None,\n",
              "   'display_source': None,\n",
              "   'authority': None,\n",
              "   'url': None},\n",
              "  {'starts_at': {'day': 1, 'month': 10, 'year': 2015},\n",
              "   'ends_at': None,\n",
              "   'name': 'Trainer of trainers',\n",
              "   'license_number': None,\n",
              "   'display_source': None,\n",
              "   'authority': None,\n",
              "   'url': None},\n",
              "  {'starts_at': {'day': 1, 'month': 7, 'year': 2015},\n",
              "   'ends_at': None,\n",
              "   'name': 'DELF B2',\n",
              "   'license_number': None,\n",
              "   'display_source': None,\n",
              "   'authority': 'Institut français de Tunisie',\n",
              "   'url': None},\n",
              "  {'starts_at': {'day': 1, 'month': 5, 'year': 2015},\n",
              "   'ends_at': None,\n",
              "   'name': 'Preparing Training Packages',\n",
              "   'license_number': None,\n",
              "   'display_source': None,\n",
              "   'authority': None,\n",
              "   'url': None},\n",
              "  {'starts_at': None,\n",
              "   'ends_at': None,\n",
              "   'name': 'Professional qualification certificate Machine Learning ',\n",
              "   'license_number': None,\n",
              "   'display_source': None,\n",
              "   'authority': None,\n",
              "   'url': None},\n",
              "  {'starts_at': None,\n",
              "   'ends_at': None,\n",
              "   'name': 'Scrum Master Accredited Certification',\n",
              "   'license_number': None,\n",
              "   'display_source': None,\n",
              "   'authority': 'International Scrum Institute™ (Scrum Institute)',\n",
              "   'url': None}],\n",
              " 'connections': None,\n",
              " 'people_also_viewed': [{'link': 'https://www.linkedin.com/in/dorra-trabelsi-577b07a9',\n",
              "   'name': 'Dorra Trabelsi',\n",
              "   'summary': 'Enseignante-Chercheuse et responsable Option Data Science chez ESPRIT',\n",
              "   'location': None},\n",
              "  {'link': 'https://www.linkedin.com/in/badia-bouhdid-a12925100',\n",
              "   'name': 'Badia Bouhdid',\n",
              "   'summary': 'PhD. Computer Science | Web and Internet Technologies (TWIN) Specialty Coordinator | IT trainer at ESPRIT',\n",
              "   'location': None},\n",
              "  {'link': 'https://www.linkedin.com/in/malak-ben-salem-67b555182',\n",
              "   'name': 'Malak Ben Salem',\n",
              "   'summary': 'Data science engineering student | Data Science Intern chez Bourse de Tunis',\n",
              "   'location': None},\n",
              "  {'link': 'https://www.linkedin.com/in/adem-youssef-277019176',\n",
              "   'name': 'Adem Youssef',\n",
              "   'summary': 'MLOps intern at Infor',\n",
              "   'location': None},\n",
              "  {'link': 'https://www.linkedin.com/in/taoufik-slimani',\n",
              "   'name': 'Taoufik Slimani',\n",
              "   'summary': 'Student preparing engineering degree in data science',\n",
              "   'location': None},\n",
              "  {'link': 'https://www.linkedin.com/in/oumeyma-talbi-1956b6231',\n",
              "   'name': 'Oumeyma Talbi',\n",
              "   'summary': 'Data scientist',\n",
              "   'location': None},\n",
              "  {'link': 'https://www.linkedin.com/in/hela-darguechi',\n",
              "   'name': 'Hela Darguechi',\n",
              "   'summary': 'Data Science Engineer Student',\n",
              "   'location': None},\n",
              "  {'link': 'https://www.linkedin.com/in/fodha-ghassen-a64273173',\n",
              "   'name': 'FODHA Ghassen',\n",
              "   'summary': 'Machine Learning engineer | teacher trainer at esprit | Head of deep learning module | data analyst at SSD RDI TEAM',\n",
              "   'location': None},\n",
              "  {'link': 'https://www.linkedin.com/in/khalil-ennaifer-1605241b9',\n",
              "   'name': 'Khalil Ennaifer',\n",
              "   'summary': 'Data Science Engineering Student',\n",
              "   'location': None},\n",
              "  {'link': 'https://www.linkedin.com/in/meriem-gomri-65b8a6170',\n",
              "   'name': 'Meriem Gomri',\n",
              "   'summary': 'Data scientist engineer',\n",
              "   'location': None}],\n",
              " 'recommendations': [],\n",
              " 'activities': [],\n",
              " 'similarly_named_profiles': [],\n",
              " 'articles': [],\n",
              " 'groups': [],\n",
              " 'skills': ['Deep learning',\n",
              "  'Machine learning',\n",
              "  'Apprentissage automatique',\n",
              "  'Data Mining',\n",
              "  'Computer Vsion',\n",
              "  \"Traitement d'images\",\n",
              "  'Python',\n",
              "  'Matlab',\n",
              "  'coaching agile',\n",
              "  'Génie logiciel',\n",
              "  'UML',\n",
              "  'Big Data analytics',\n",
              "  'Base des données',\n",
              "  'SQL',\n",
              "  'Microsoft Excel',\n",
              "  'Pédagogie active',\n",
              "  'Gestion de projet',\n",
              "  'Programmation orientée objet (OOP)',\n",
              "  'Programmation orientée objet (POO)',\n",
              "  'Java']}"
            ]
          },
          "metadata": {},
          "execution_count": 4
        }
      ]
    },
    {
      "cell_type": "code",
      "source": [],
      "metadata": {
        "id": "VhXoifQUP5rD"
      },
      "execution_count": null,
      "outputs": []
    },
    {
      "cell_type": "markdown",
      "source": [
        "API Documentation : https://nubela.co/proxycurl/docs#people-api-person-profile-endpoint"
      ],
      "metadata": {
        "id": "pL7dSyRrQ92R"
      }
    },
    {
      "cell_type": "code",
      "source": [
        "profile_data.keys()"
      ],
      "metadata": {
        "colab": {
          "base_uri": "https://localhost:8080/"
        },
        "id": "IkJz8IfzOYUz",
        "outputId": "55fc4228-8e51-47a2-a2d5-76884a81e6b2"
      },
      "execution_count": null,
      "outputs": [
        {
          "output_type": "execute_result",
          "data": {
            "text/plain": [
              "dict_keys(['public_identifier', 'profile_pic_url', 'background_cover_image_url', 'first_name', 'last_name', 'full_name', 'follower_count', 'occupation', 'headline', 'summary', 'country', 'country_full_name', 'city', 'state', 'experiences', 'education', 'languages', 'accomplishment_organisations', 'accomplishment_publications', 'accomplishment_honors_awards', 'accomplishment_patents', 'accomplishment_courses', 'accomplishment_projects', 'accomplishment_test_scores', 'volunteer_work', 'certifications', 'connections', 'people_also_viewed', 'recommendations', 'activities', 'similarly_named_profiles', 'articles', 'groups', 'skills'])"
            ]
          },
          "metadata": {},
          "execution_count": 5
        }
      ]
    },
    {
      "cell_type": "code",
      "source": [
        "profile_data['full_name']"
      ],
      "metadata": {
        "colab": {
          "base_uri": "https://localhost:8080/",
          "height": 35
        },
        "id": "gFy1plfyOhvU",
        "outputId": "c5dee6f9-3dfe-474f-be2e-6e57867136c5"
      },
      "execution_count": null,
      "outputs": [
        {
          "output_type": "execute_result",
          "data": {
            "text/plain": [
              "'Sonia Mesbah'"
            ],
            "application/vnd.google.colaboratory.intrinsic+json": {
              "type": "string"
            }
          },
          "metadata": {},
          "execution_count": 6
        }
      ]
    },
    {
      "cell_type": "code",
      "source": [
        "profile_data['occupation']"
      ],
      "metadata": {
        "colab": {
          "base_uri": "https://localhost:8080/",
          "height": 35
        },
        "id": "G8OLSSvRO8ED",
        "outputId": "33b4609d-20fd-4c7d-a0e9-97ce1a0c39f4"
      },
      "execution_count": null,
      "outputs": [
        {
          "output_type": "execute_result",
          "data": {
            "text/plain": [
              "\"Machine Learning module Coordinator at ESPRIT (Ecole Supérieure Privée d'Ingénierie et de Technologies)\""
            ],
            "application/vnd.google.colaboratory.intrinsic+json": {
              "type": "string"
            }
          },
          "metadata": {},
          "execution_count": 7
        }
      ]
    },
    {
      "cell_type": "code",
      "source": [
        "profile_data['headline']"
      ],
      "metadata": {
        "colab": {
          "base_uri": "https://localhost:8080/",
          "height": 35
        },
        "id": "OXW9VVTePDiL",
        "outputId": "6f64b648-848f-4a89-edee-d160e35f08db"
      },
      "execution_count": null,
      "outputs": [
        {
          "output_type": "execute_result",
          "data": {
            "text/plain": [
              "'Phd, AI specialist, University Teacher, computer science'"
            ],
            "application/vnd.google.colaboratory.intrinsic+json": {
              "type": "string"
            }
          },
          "metadata": {},
          "execution_count": 8
        }
      ]
    },
    {
      "cell_type": "code",
      "source": [
        "print(profile_data['summary'])"
      ],
      "metadata": {
        "colab": {
          "base_uri": "https://localhost:8080/"
        },
        "id": "D8Dt0L3XPFOb",
        "outputId": "eaf5903a-82cd-4513-8658-4bc05d553d0f"
      },
      "execution_count": null,
      "outputs": [
        {
          "output_type": "stream",
          "name": "stdout",
          "text": [
            "None\n"
          ]
        }
      ]
    },
    {
      "cell_type": "code",
      "source": [
        "profile_data['experiences']"
      ],
      "metadata": {
        "id": "0DOUACD_QEhg",
        "colab": {
          "base_uri": "https://localhost:8080/"
        },
        "outputId": "62e4f5f7-3de1-43bb-c9e7-b35827222c4e"
      },
      "execution_count": null,
      "outputs": [
        {
          "output_type": "execute_result",
          "data": {
            "text/plain": [
              "[{'starts_at': {'day': 1, 'month': 9, 'year': 2020},\n",
              "  'ends_at': None,\n",
              "  'company': \"ESPRIT (Ecole Supérieure Privée d'Ingénierie et de Technologies)\",\n",
              "  'company_linkedin_profile_url': 'https://www.linkedin.com/school/esprit_2/',\n",
              "  'title': 'Machine Learning module Coordinator',\n",
              "  'description': None,\n",
              "  'location': None,\n",
              "  'logo_url': 'https://media.licdn.com/dms/image/C4D0BAQE5RXDgS-RpXA/company-logo_400_400/0/1621252767729?e=1684972800&v=beta&t=zSpQXRquSEa2ye51Z5BqiBINqJTLPPjzI8b0NHkFBo0'},\n",
              " {'starts_at': {'day': 1, 'month': 2, 'year': 2018},\n",
              "  'ends_at': {'day': 1, 'month': 9, 'year': 2020},\n",
              "  'company': \"ESPRIT (Ecole Supérieure Privée d'Ingénierie et de Technologies)\",\n",
              "  'company_linkedin_profile_url': 'https://www.linkedin.com/school/esprit_2/',\n",
              "  'title': 'Software Engineering module coordinator',\n",
              "  'description': None,\n",
              "  'location': None,\n",
              "  'logo_url': 'https://media.licdn.com/dms/image/C4D0BAQE5RXDgS-RpXA/company-logo_400_400/0/1621252767729?e=1684972800&v=beta&t=zSpQXRquSEa2ye51Z5BqiBINqJTLPPjzI8b0NHkFBo0'},\n",
              " {'starts_at': {'day': 1, 'month': 9, 'year': 2012},\n",
              "  'ends_at': None,\n",
              "  'company': \"ESPRIT (Ecole Supérieure Privée d'Ingénierie et de Technologies)\",\n",
              "  'company_linkedin_profile_url': 'https://www.linkedin.com/school/esprit_2/',\n",
              "  'title': 'Teacher-researcher',\n",
              "  'description': 'UML, software engineering, project C++, Agile Methodology,Java, Machine Learning, Data science project',\n",
              "  'location': None,\n",
              "  'logo_url': 'https://media.licdn.com/dms/image/C4D0BAQE5RXDgS-RpXA/company-logo_400_400/0/1621252767729?e=1684972800&v=beta&t=zSpQXRquSEa2ye51Z5BqiBINqJTLPPjzI8b0NHkFBo0'},\n",
              " {'starts_at': {'day': 1, 'month': 9, 'year': 2011},\n",
              "  'ends_at': {'day': 1, 'month': 6, 'year': 2012},\n",
              "  'company': 'UPES',\n",
              "  'company_linkedin_profile_url': None,\n",
              "  'title': 'Teacher',\n",
              "  'description': 'Computer Vision, Matlab, Algorithmics,  Maple, POO',\n",
              "  'location': None,\n",
              "  'logo_url': None},\n",
              " {'starts_at': {'day': 1, 'month': 9, 'year': 2010},\n",
              "  'ends_at': {'day': 1, 'month': 6, 'year': 2011},\n",
              "  'company': 'ISEAHT',\n",
              "  'company_linkedin_profile_url': None,\n",
              "  'title': 'Teacher',\n",
              "  'description': 'C2i, HTML, image processing',\n",
              "  'location': None,\n",
              "  'logo_url': None}]"
            ]
          },
          "metadata": {},
          "execution_count": 10
        }
      ]
    },
    {
      "cell_type": "code",
      "source": [
        "profile_data['experiences'][2]"
      ],
      "metadata": {
        "colab": {
          "base_uri": "https://localhost:8080/"
        },
        "id": "7eOAQf0XPJrq",
        "outputId": "2bdeb36c-fec3-4dd7-9d69-2ba22fd34238"
      },
      "execution_count": null,
      "outputs": [
        {
          "output_type": "execute_result",
          "data": {
            "text/plain": [
              "{'starts_at': {'day': 1, 'month': 9, 'year': 2012},\n",
              " 'ends_at': None,\n",
              " 'company': \"ESPRIT (Ecole Supérieure Privée d'Ingénierie et de Technologies)\",\n",
              " 'company_linkedin_profile_url': 'https://www.linkedin.com/school/esprit_2/',\n",
              " 'title': 'Teacher-researcher',\n",
              " 'description': 'UML, software engineering, project C++, Agile Methodology,Java, Machine Learning, Data science project',\n",
              " 'location': None,\n",
              " 'logo_url': 'https://media.licdn.com/dms/image/C4D0BAQE5RXDgS-RpXA/company-logo_400_400/0/1621252767729?e=1684972800&v=beta&t=zSpQXRquSEa2ye51Z5BqiBINqJTLPPjzI8b0NHkFBo0'}"
            ]
          },
          "metadata": {},
          "execution_count": 11
        }
      ]
    },
    {
      "cell_type": "code",
      "source": [
        "profile_data['education']"
      ],
      "metadata": {
        "colab": {
          "base_uri": "https://localhost:8080/"
        },
        "id": "W4NUiPh1PPqT",
        "outputId": "a2db0249-51ad-4bbf-aca6-edf0e43815bc"
      },
      "execution_count": null,
      "outputs": [
        {
          "output_type": "execute_result",
          "data": {
            "text/plain": [
              "[{'starts_at': {'day': 1, 'month': 1, 'year': 2017},\n",
              "  'ends_at': {'day': 1, 'month': 1, 'year': 2021},\n",
              "  'field_of_study': '3D video coding, computer vision',\n",
              "  'degree_name': 'Diplôme de doctorat en informatique',\n",
              "  'school': \"ENSI - Ecole Nationale des Sciences de l'Informatique\",\n",
              "  'school_linkedin_profile_url': None,\n",
              "  'description': None,\n",
              "  'logo_url': 'https://media.licdn.com/dms/image/C4E0BAQFwXUUykEGA-w/company-logo_400_400/0/1529178073889?e=1684972800&v=beta&t=qianxNYA3j9JDdNuaEdmeai9IKMq2vMgHs4wiao0OEk',\n",
              "  'grade': None,\n",
              "  'activities_and_societies': None},\n",
              " {'starts_at': None,\n",
              "  'ends_at': {'day': 1, 'month': 1, 'year': 2012},\n",
              "  'field_of_study': 'Systèmes intelligents communicants',\n",
              "  'degree_name': 'Mastère de recherche',\n",
              "  'school': \"École Nationale d'ingénieurs de Sousse\",\n",
              "  'school_linkedin_profile_url': None,\n",
              "  'description': None,\n",
              "  'logo_url': 'https://media.licdn.com/dms/image/C560BAQGUZYDY1dk91Q/company-logo_400_400/0/1519912264910?e=1684972800&v=beta&t=XvROQdhA_Jc3hyWLDOArgFW5gmsADHTozGHJZ613yFw',\n",
              "  'grade': None,\n",
              "  'activities_and_societies': None},\n",
              " {'starts_at': None,\n",
              "  'ends_at': {'day': 1, 'month': 1, 'year': 2010},\n",
              "  'field_of_study': 'Informatique appliquée',\n",
              "  'degree_name': \"Diplôme d'ingénieur\",\n",
              "  'school': \"École Nationale d'ingénieurs de Sousse\",\n",
              "  'school_linkedin_profile_url': None,\n",
              "  'description': None,\n",
              "  'logo_url': 'https://media.licdn.com/dms/image/C560BAQGUZYDY1dk91Q/company-logo_400_400/0/1519912264910?e=1684972800&v=beta&t=XvROQdhA_Jc3hyWLDOArgFW5gmsADHTozGHJZ613yFw',\n",
              "  'grade': None,\n",
              "  'activities_and_societies': None},\n",
              " {'starts_at': None,\n",
              "  'ends_at': {'day': 1, 'month': 6, 'year': 2007},\n",
              "  'field_of_study': 'Math-physique',\n",
              "  'degree_name': \"Concours d'accès aux écoles d'ingénieurs \",\n",
              "  'school': 'Cycle préparatoire ',\n",
              "  'school_linkedin_profile_url': None,\n",
              "  'description': None,\n",
              "  'logo_url': None,\n",
              "  'grade': None,\n",
              "  'activities_and_societies': None}]"
            ]
          },
          "metadata": {},
          "execution_count": 12
        }
      ]
    },
    {
      "cell_type": "code",
      "source": [
        "profile_data['education'][0]"
      ],
      "metadata": {
        "colab": {
          "base_uri": "https://localhost:8080/"
        },
        "id": "FlLpCfcTQH1S",
        "outputId": "1af4adb9-407f-4ba8-939f-aee8a113c92c"
      },
      "execution_count": null,
      "outputs": [
        {
          "output_type": "execute_result",
          "data": {
            "text/plain": [
              "{'starts_at': {'day': 1, 'month': 1, 'year': 2017},\n",
              " 'ends_at': {'day': 1, 'month': 1, 'year': 2021},\n",
              " 'field_of_study': '3D video coding, computer vision',\n",
              " 'degree_name': 'Diplôme de doctorat en informatique',\n",
              " 'school': \"ENSI - Ecole Nationale des Sciences de l'Informatique\",\n",
              " 'school_linkedin_profile_url': None,\n",
              " 'description': None,\n",
              " 'logo_url': 'https://media.licdn.com/dms/image/C4E0BAQFwXUUykEGA-w/company-logo_400_400/0/1529178073889?e=1684972800&v=beta&t=qianxNYA3j9JDdNuaEdmeai9IKMq2vMgHs4wiao0OEk',\n",
              " 'grade': None,\n",
              " 'activities_and_societies': None}"
            ]
          },
          "metadata": {},
          "execution_count": 13
        }
      ]
    },
    {
      "cell_type": "code",
      "source": [
        "profile_data['skills']"
      ],
      "metadata": {
        "colab": {
          "base_uri": "https://localhost:8080/"
        },
        "id": "1a34za_4QLHy",
        "outputId": "ffa45cc1-be3f-47b5-94b2-25d42aa3f2e6"
      },
      "execution_count": null,
      "outputs": [
        {
          "output_type": "execute_result",
          "data": {
            "text/plain": [
              "['Deep learning',\n",
              " 'Machine learning',\n",
              " 'Apprentissage automatique',\n",
              " 'Data Mining',\n",
              " 'Computer Vsion',\n",
              " \"Traitement d'images\",\n",
              " 'Python',\n",
              " 'Matlab',\n",
              " 'coaching agile',\n",
              " 'Génie logiciel',\n",
              " 'UML',\n",
              " 'Big Data analytics',\n",
              " 'Base des données',\n",
              " 'SQL',\n",
              " 'Microsoft Excel',\n",
              " 'Pédagogie active',\n",
              " 'Gestion de projet',\n",
              " 'Programmation orientée objet (OOP)',\n",
              " 'Programmation orientée objet (POO)',\n",
              " 'Java']"
            ]
          },
          "metadata": {},
          "execution_count": 14
        }
      ]
    },
    {
      "cell_type": "code",
      "source": [
        "\n",
        "import csv\n",
        "file = open('linkedin-jobs.csv', 'a')\n",
        "writer = csv.writer(file)\n",
        "writer.writerow(['full_name', 'occupation', 'headline', 'summary', 'experiences', 'education', 'skills'])"
      ],
      "metadata": {
        "id": "tIyJWjXuWLcT",
        "colab": {
          "base_uri": "https://localhost:8080/"
        },
        "outputId": "81a4c952-ce25-4ec5-8d8f-6f095467eacc"
      },
      "execution_count": null,
      "outputs": [
        {
          "output_type": "execute_result",
          "data": {
            "text/plain": [
              "11"
            ]
          },
          "metadata": {},
          "execution_count": 17
        }
      ]
    },
    {
      "cell_type": "code",
      "source": [
        "import csv\n",
        "with open('eggs.csv', newline='') as csvfile:\n",
        "    spamreader = csv.reader(csvfile, delimiter=' ', quotechar='|')\n",
        "    for row in spamreader:\n",
        "        print(', '.join(row))"
      ],
      "metadata": {
        "id": "HFNhPUxMfgb7"
      },
      "execution_count": null,
      "outputs": []
    },
    {
      "cell_type": "code",
      "source": [
        "import csv\n",
        "row_list = [ \n",
        "     ['full_name', 'occupation', 'headline', 'summary', 'experiences', 'education', 'skills'],\n",
        "             [profile_data['full_name'],profile_data['occupation'], profile_data['headline'], profile_data['summary'], profile_data['experiences'],  profile_data['education'],  profile_data['skills']]\n",
        "              ]\n",
        "\n",
        "with open('profileslinkedin.csv', 'w', newline='') as file:\n",
        "     writer = csv.writer(file)\n",
        "     writer.writerows(row_list)"
      ],
      "metadata": {
        "id": "R9UwTBmvgAVb"
      },
      "execution_count": null,
      "outputs": []
    }
  ]
}